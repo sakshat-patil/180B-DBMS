{
 "cells": [
  {
   "cell_type": "markdown",
   "metadata": {},
   "source": [
    "# Lecture 4: In-class activity - Update, delete"
   ]
  },
  {
   "cell_type": "markdown",
   "metadata": {},
   "source": [
    "## Let's setup the SQL environment \n",
    "\n"
   ]
  },
  {
   "cell_type": "code",
   "execution_count": 1,
   "metadata": {},
   "outputs": [
    {
     "name": "stdout",
     "output_type": "stream",
     "text": [
      "3.45.3\n"
     ]
    }
   ],
   "source": [
    "#Install pysqlite3 for python and import pandas to use later\n",
    "#!pip install pysqlite3\n",
    "from sqlite3 import dbapi2 as sqlite3\n",
    "print(sqlite3.sqlite_version)\n",
    "import pandas as pd\n",
    "from IPython.display import display, HTML"
   ]
  },
  {
   "cell_type": "markdown",
   "metadata": {},
   "source": [
    "Let's define some helper functions for running queries and printing results"
   ]
  },
  {
   "cell_type": "code",
   "execution_count": 2,
   "metadata": {},
   "outputs": [],
   "source": [
    "dbname = \"music_streaming4.db\"\n",
    "\n",
    "def printSqlResults(cursor, tblName):\n",
    "  try:\n",
    "    df = pd.DataFrame(cursor.fetchall(), columns=[i[0] for i in cursor.description])\n",
    "    display(HTML(\"<b><font color=Green> \" + tblName + \"</font></b>\" + df.to_html(index=False)))\n",
    "  except:\n",
    "    pass\n",
    "\n",
    "def runSql(caption, query):\n",
    "  conn = sqlite3.connect(dbname) # Connect to the database\n",
    "  cursor = conn.cursor() # Create a cursor (think: it's like a \"pointer\")\n",
    "  cursor.execute(query) # Execute the query\n",
    "  printSqlResults(cursor, caption) # Print the results\n",
    "  conn.close()\n",
    "\n",
    "def runSqlWithCommit(caption, query):\n",
    "  conn = sqlite3.connect(dbname) # Connect to the database\n",
    "  cursor = conn.cursor() # Create a cursor (think: it's like a \"pointer\")\n",
    "  cursor.execute(query) # Execute the query\n",
    "  printSqlResults(cursor, caption) # Print the results\n",
    "  conn.commit()\n",
    "  conn.close()\n",
    "\n",
    "def runStepByStepSql(query, fromline):\n",
    "  lines = query.strip().split('\\n')\n",
    "  for lineidx in range(fromline, len(lines)):\n",
    "    partial_query = '\\n'.join(lines[:lineidx])\n",
    "    caption = 'Query till line:' +  partial_query\n",
    "    runSql(caption, partial_query + ';')"
   ]
  },
  {
   "cell_type": "markdown",
   "metadata": {
    "collapsed": true,
    "jupyter": {
     "outputs_hidden": true
    }
   },
   "source": [
    "Let's setup a Schema and insert some data"
   ]
  },
  {
   "cell_type": "code",
   "execution_count": 3,
   "metadata": {},
   "outputs": [],
   "source": [
    "# Connect to database (creates the file if it doesn't exist)\n",
    "\"\"\"\n",
    "1. Connections: A connection represents a connection to a database through\n",
    "which we can execute SQL queries. The dbname here specifies the database.\n",
    "In SQLlite, if the DB doesn't exist, it will be created.\n",
    "2. Cursors: A cursor is an object associated with a database connection.\n",
    "It allows you to execute SQL queries, fetch query results.\n",
    "\"\"\"\n",
    "conn = sqlite3.connect(dbname)\n",
    "cursor = conn.cursor()\n",
    "\n",
    "# Create the Users table\n",
    "cursor.execute(\"\"\"\n",
    "CREATE TABLE IF NOT EXISTS Users (\n",
    "    user_id INTEGER PRIMARY KEY,\n",
    "    name VARCHAR(100) NOT NULL,\n",
    "    email VARCHAR(100) NOT NULL UNIQUE\n",
    ");\n",
    "\"\"\")\n",
    "\n",
    "# Create the Songs table\n",
    "cursor.execute(\"\"\"\n",
    "CREATE TABLE IF NOT EXISTS Songs (\n",
    "    song_id INTEGER PRIMARY KEY,\n",
    "    title VARCHAR(100) NOT NULL,\n",
    "    artist VARCHAR(100) NOT NULL,\n",
    "    genre VARCHAR(100)\n",
    ");\n",
    "\"\"\")\n",
    "\n",
    "# Create the Listens table\n",
    "cursor.execute(\"\"\"\n",
    "CREATE TABLE IF NOT EXISTS Listens (\n",
    "    listen_id INTEGER PRIMARY KEY,\n",
    "    user_id INTEGER NOT NULL,\n",
    "    song_id INTEGER NOT NULL,\n",
    "    rating FLOAT,\n",
    "    listen_time TIMESTAMP,\n",
    "    FOREIGN KEY (user_id) REFERENCES Users(user_id),\n",
    "    FOREIGN KEY (song_id) REFERENCES Songs(song_id)\n",
    ");\n",
    "\"\"\")\n",
    "\n",
    "# Create the recommendations table\n",
    "cursor.execute(\"\"\"\n",
    "CREATE TABLE IF NOT EXISTS Recommendations (\n",
    "    user_id INTEGER NOT NULL,\n",
    "    song_id INTEGER NOT NULL,\n",
    "    recommendation_id not NULL,\n",
    "    recommendation_time TIMESTAMP,\n",
    "    FOREIGN KEY (user_id) REFERENCES Users(user_id),\n",
    "    FOREIGN KEY (song_id) REFERENCES Songs(song_id)\n",
    ");\n",
    "\"\"\")\n",
    "\n",
    "\n",
    "# Commit changes and close the connection\n",
    "conn.commit()\n",
    "conn.close()"
   ]
  },
  {
   "cell_type": "code",
   "execution_count": 4,
   "metadata": {},
   "outputs": [
    {
     "data": {
      "text/html": [
       "<b><font color=Green> Users</font></b><table border=\"1\" class=\"dataframe\">\n",
       "  <thead>\n",
       "    <tr style=\"text-align: right;\">\n",
       "      <th>user_id</th>\n",
       "      <th>name</th>\n",
       "      <th>email</th>\n",
       "    </tr>\n",
       "  </thead>\n",
       "  <tbody>\n",
       "    <tr>\n",
       "      <td>1</td>\n",
       "      <td>Mickey</td>\n",
       "      <td>mickey@example.com</td>\n",
       "    </tr>\n",
       "    <tr>\n",
       "      <td>2</td>\n",
       "      <td>Minnie</td>\n",
       "      <td>minnie@example.com</td>\n",
       "    </tr>\n",
       "    <tr>\n",
       "      <td>3</td>\n",
       "      <td>Daffy</td>\n",
       "      <td>daffy@example.com</td>\n",
       "    </tr>\n",
       "    <tr>\n",
       "      <td>4</td>\n",
       "      <td>Pluto</td>\n",
       "      <td>pluto@example.com</td>\n",
       "    </tr>\n",
       "  </tbody>\n",
       "</table>"
      ],
      "text/plain": [
       "<IPython.core.display.HTML object>"
      ]
     },
     "metadata": {},
     "output_type": "display_data"
    },
    {
     "data": {
      "text/html": [
       "<b><font color=Green> Songs</font></b><table border=\"1\" class=\"dataframe\">\n",
       "  <thead>\n",
       "    <tr style=\"text-align: right;\">\n",
       "      <th>song_id</th>\n",
       "      <th>title</th>\n",
       "      <th>artist</th>\n",
       "      <th>genre</th>\n",
       "    </tr>\n",
       "  </thead>\n",
       "  <tbody>\n",
       "    <tr>\n",
       "      <td>1</td>\n",
       "      <td>Evermore</td>\n",
       "      <td>Taylor Swift</td>\n",
       "      <td>Pop</td>\n",
       "    </tr>\n",
       "    <tr>\n",
       "      <td>2</td>\n",
       "      <td>Willow</td>\n",
       "      <td>Taylor Swift</td>\n",
       "      <td>Pop</td>\n",
       "    </tr>\n",
       "    <tr>\n",
       "      <td>3</td>\n",
       "      <td>Shape of You</td>\n",
       "      <td>Ed Sheeran</td>\n",
       "      <td>Rock</td>\n",
       "    </tr>\n",
       "    <tr>\n",
       "      <td>4</td>\n",
       "      <td>Photograph</td>\n",
       "      <td>Ed Sheeran</td>\n",
       "      <td>Rock</td>\n",
       "    </tr>\n",
       "    <tr>\n",
       "      <td>5</td>\n",
       "      <td>Shivers</td>\n",
       "      <td>Ed Sheeran</td>\n",
       "      <td>Rock</td>\n",
       "    </tr>\n",
       "    <tr>\n",
       "      <td>6</td>\n",
       "      <td>Yesterday</td>\n",
       "      <td>Beatles</td>\n",
       "      <td>Classic</td>\n",
       "    </tr>\n",
       "    <tr>\n",
       "      <td>7</td>\n",
       "      <td>Yellow Submarine</td>\n",
       "      <td>Beatles</td>\n",
       "      <td>Classic</td>\n",
       "    </tr>\n",
       "    <tr>\n",
       "      <td>8</td>\n",
       "      <td>Hey Jude</td>\n",
       "      <td>Beatles</td>\n",
       "      <td>Classic</td>\n",
       "    </tr>\n",
       "    <tr>\n",
       "      <td>9</td>\n",
       "      <td>Bad Blood</td>\n",
       "      <td>Taylor Swift</td>\n",
       "      <td>Rock</td>\n",
       "    </tr>\n",
       "    <tr>\n",
       "      <td>10</td>\n",
       "      <td>DJ Mix</td>\n",
       "      <td>DJ</td>\n",
       "      <td>None</td>\n",
       "    </tr>\n",
       "  </tbody>\n",
       "</table>"
      ],
      "text/plain": [
       "<IPython.core.display.HTML object>"
      ]
     },
     "metadata": {},
     "output_type": "display_data"
    },
    {
     "data": {
      "text/html": [
       "<b><font color=Green> Listens</font></b><table border=\"1\" class=\"dataframe\">\n",
       "  <thead>\n",
       "    <tr style=\"text-align: right;\">\n",
       "      <th>listen_id</th>\n",
       "      <th>user_id</th>\n",
       "      <th>song_id</th>\n",
       "      <th>rating</th>\n",
       "      <th>listen_time</th>\n",
       "    </tr>\n",
       "  </thead>\n",
       "  <tbody>\n",
       "    <tr>\n",
       "      <td>1</td>\n",
       "      <td>1</td>\n",
       "      <td>1</td>\n",
       "      <td>4.5</td>\n",
       "      <td>None</td>\n",
       "    </tr>\n",
       "    <tr>\n",
       "      <td>2</td>\n",
       "      <td>1</td>\n",
       "      <td>2</td>\n",
       "      <td>4.2</td>\n",
       "      <td>None</td>\n",
       "    </tr>\n",
       "    <tr>\n",
       "      <td>3</td>\n",
       "      <td>1</td>\n",
       "      <td>6</td>\n",
       "      <td>3.9</td>\n",
       "      <td>None</td>\n",
       "    </tr>\n",
       "    <tr>\n",
       "      <td>4</td>\n",
       "      <td>2</td>\n",
       "      <td>2</td>\n",
       "      <td>4.7</td>\n",
       "      <td>None</td>\n",
       "    </tr>\n",
       "    <tr>\n",
       "      <td>5</td>\n",
       "      <td>2</td>\n",
       "      <td>7</td>\n",
       "      <td>4.6</td>\n",
       "      <td>None</td>\n",
       "    </tr>\n",
       "    <tr>\n",
       "      <td>6</td>\n",
       "      <td>2</td>\n",
       "      <td>8</td>\n",
       "      <td>3.9</td>\n",
       "      <td>None</td>\n",
       "    </tr>\n",
       "    <tr>\n",
       "      <td>7</td>\n",
       "      <td>3</td>\n",
       "      <td>1</td>\n",
       "      <td>2.9</td>\n",
       "      <td>None</td>\n",
       "    </tr>\n",
       "    <tr>\n",
       "      <td>8</td>\n",
       "      <td>3</td>\n",
       "      <td>2</td>\n",
       "      <td>4.9</td>\n",
       "      <td>None</td>\n",
       "    </tr>\n",
       "    <tr>\n",
       "      <td>9</td>\n",
       "      <td>3</td>\n",
       "      <td>6</td>\n",
       "      <td>NaN</td>\n",
       "      <td>None</td>\n",
       "    </tr>\n",
       "  </tbody>\n",
       "</table>"
      ],
      "text/plain": [
       "<IPython.core.display.HTML object>"
      ]
     },
     "metadata": {},
     "output_type": "display_data"
    },
    {
     "data": {
      "text/html": [
       "<b><font color=Green> filter users</font></b><table border=\"1\" class=\"dataframe\">\n",
       "  <thead>\n",
       "    <tr style=\"text-align: right;\">\n",
       "      <th>email</th>\n",
       "    </tr>\n",
       "  </thead>\n",
       "  <tbody>\n",
       "    <tr>\n",
       "      <td>mickey@example.com</td>\n",
       "    </tr>\n",
       "  </tbody>\n",
       "</table>"
      ],
      "text/plain": [
       "<IPython.core.display.HTML object>"
      ]
     },
     "metadata": {},
     "output_type": "display_data"
    }
   ],
   "source": [
    "# Connect to database again and insert sample data\n",
    "conn = sqlite3.connect(dbname)\n",
    "sqlite3.enable_callback_tracebacks(True)\n",
    "\n",
    "cursor = conn.cursor()\n",
    "cursor.execute(\"delete from Songs;\")\n",
    "cursor.execute(\"delete from Users;\")\n",
    "cursor.execute(\"delete from Listens;\")\n",
    "cursor.execute(\"delete from Recommendations;\")\n",
    "\n",
    "# Insert sample users\n",
    "cursor.execute(\"\"\"\n",
    "INSERT INTO Users (user_id, name, email)\n",
    "VALUES\n",
    "    (1, 'Mickey', 'mickey@example.com'),\n",
    "    (2, 'Minnie', 'minnie@example.com'),\n",
    "    (3, 'Daffy', 'daffy@example.com'),\n",
    "    (4, 'Pluto', 'pluto@example.com');\n",
    "\"\"\")\n",
    "\n",
    "# Insert sample songs from Taylor Swift, Ed Sheeran, Beatles\n",
    "cursor.execute(\"\"\"\n",
    "INSERT INTO Songs (song_id, title, artist, genre)\n",
    "VALUES\n",
    "    (1, 'Evermore', 'Taylor Swift', 'Pop'),\n",
    "    (2, 'Willow', 'Taylor Swift', 'Pop'),\n",
    "    (3, 'Shape of You', 'Ed Sheeran', 'Rock'),\n",
    "    (4, 'Photograph', 'Ed Sheeran', 'Rock'),\n",
    "    (5, 'Shivers', 'Ed Sheeran', 'Rock'),\n",
    "    (6, 'Yesterday', 'Beatles', 'Classic'),\n",
    "    (7, 'Yellow Submarine', 'Beatles', 'Classic'),\n",
    "    (8, 'Hey Jude', 'Beatles', 'Classic'),\n",
    "    (9, 'Bad Blood', 'Taylor Swift', 'Rock'),\n",
    "    (10, 'DJ Mix', 'DJ', NULL);\n",
    "\"\"\")\n",
    "\n",
    "# Insert sample listens\n",
    "cursor.execute(\"\"\"\n",
    "INSERT INTO Listens (listen_id, user_id, song_id, rating)\n",
    "VALUES\n",
    "    (1, 1, 1, 4.5),\n",
    "    (2, 1, 2, 4.2),\n",
    "    (3, 1, 6, 3.9),\n",
    "    (4, 2, 2, 4.7),\n",
    "    (5, 2, 7, 4.6),\n",
    "    (6, 2, 8, 3.9),\n",
    "    (7, 3, 1, 2.9),\n",
    "    (8, 3, 2, 4.9),\n",
    "    (9, 3, 6, NULL);\n",
    "\"\"\")\n",
    "# Commit changes and close the connection\n",
    "conn.commit()\n",
    "conn.close()\n",
    "\n",
    "runSql('Users', \"SELECT * FROM Users;\")\n",
    "runSql('Songs', \"SELECT * FROM Songs;\")\n",
    "runSql('Listens', \"SELECT * FROM Listens;\")\n",
    "runSql('filter users', \"SELECT email FROM Users WHERE name='Mickey';\")"
   ]
  },
  {
   "cell_type": "markdown",
   "metadata": {},
   "source": [
    "In-class exercise: Update the email address for user with the name 'Daffy' and delete all listening records for the same user.\n"
   ]
  },
  {
   "cell_type": "code",
   "execution_count": 6,
   "metadata": {},
   "outputs": [],
   "source": [
    "runSqlWithCommit('Update Daffy Email', \"UPDATE Users SET email = 'daffynewemail@example.com' where Name = 'Daffy';\")"
   ]
  },
  {
   "cell_type": "code",
   "execution_count": 7,
   "metadata": {},
   "outputs": [
    {
     "data": {
      "text/html": [
       "<b><font color=Green> Users</font></b><table border=\"1\" class=\"dataframe\">\n",
       "  <thead>\n",
       "    <tr style=\"text-align: right;\">\n",
       "      <th>user_id</th>\n",
       "      <th>name</th>\n",
       "      <th>email</th>\n",
       "    </tr>\n",
       "  </thead>\n",
       "  <tbody>\n",
       "    <tr>\n",
       "      <td>1</td>\n",
       "      <td>Mickey</td>\n",
       "      <td>mickey@example.com</td>\n",
       "    </tr>\n",
       "    <tr>\n",
       "      <td>2</td>\n",
       "      <td>Minnie</td>\n",
       "      <td>minnie@example.com</td>\n",
       "    </tr>\n",
       "    <tr>\n",
       "      <td>3</td>\n",
       "      <td>Daffy</td>\n",
       "      <td>daffynewemail@example.com</td>\n",
       "    </tr>\n",
       "    <tr>\n",
       "      <td>4</td>\n",
       "      <td>Pluto</td>\n",
       "      <td>pluto@example.com</td>\n",
       "    </tr>\n",
       "  </tbody>\n",
       "</table>"
      ],
      "text/plain": [
       "<IPython.core.display.HTML object>"
      ]
     },
     "metadata": {},
     "output_type": "display_data"
    }
   ],
   "source": [
    "runSql('Users', \"SELECT * FROM Users;\")"
   ]
  },
  {
   "cell_type": "code",
   "execution_count": 9,
   "metadata": {},
   "outputs": [
    {
     "data": {
      "text/html": [
       "<b><font color=Green> Listens</font></b><table border=\"1\" class=\"dataframe\">\n",
       "  <thead>\n",
       "    <tr style=\"text-align: right;\">\n",
       "      <th>user_id</th>\n",
       "    </tr>\n",
       "  </thead>\n",
       "  <tbody>\n",
       "    <tr>\n",
       "      <td>3</td>\n",
       "    </tr>\n",
       "  </tbody>\n",
       "</table>"
      ],
      "text/plain": [
       "<IPython.core.display.HTML object>"
      ]
     },
     "metadata": {},
     "output_type": "display_data"
    }
   ],
   "source": [
    "runSqlWithCommit('Listens', \"SELECT user_id FROM Users WHERE Name = 'Daffy';\")"
   ]
  },
  {
   "cell_type": "code",
   "execution_count": 10,
   "metadata": {},
   "outputs": [],
   "source": [
    "runSqlWithCommit('Delete Data for Daffy', \"DELETE FROM Listens WHERE user_id=(SELECT user_id FROM Users WHERE Name = 'Daffy');\")"
   ]
  },
  {
   "cell_type": "code",
   "execution_count": 11,
   "metadata": {},
   "outputs": [
    {
     "data": {
      "text/html": [
       "<b><font color=Green> Listens</font></b><table border=\"1\" class=\"dataframe\">\n",
       "  <thead>\n",
       "    <tr style=\"text-align: right;\">\n",
       "      <th>listen_id</th>\n",
       "      <th>user_id</th>\n",
       "      <th>song_id</th>\n",
       "      <th>rating</th>\n",
       "      <th>listen_time</th>\n",
       "    </tr>\n",
       "  </thead>\n",
       "  <tbody>\n",
       "    <tr>\n",
       "      <td>1</td>\n",
       "      <td>1</td>\n",
       "      <td>1</td>\n",
       "      <td>4.5</td>\n",
       "      <td>None</td>\n",
       "    </tr>\n",
       "    <tr>\n",
       "      <td>2</td>\n",
       "      <td>1</td>\n",
       "      <td>2</td>\n",
       "      <td>4.2</td>\n",
       "      <td>None</td>\n",
       "    </tr>\n",
       "    <tr>\n",
       "      <td>3</td>\n",
       "      <td>1</td>\n",
       "      <td>6</td>\n",
       "      <td>3.9</td>\n",
       "      <td>None</td>\n",
       "    </tr>\n",
       "    <tr>\n",
       "      <td>4</td>\n",
       "      <td>2</td>\n",
       "      <td>2</td>\n",
       "      <td>4.7</td>\n",
       "      <td>None</td>\n",
       "    </tr>\n",
       "    <tr>\n",
       "      <td>5</td>\n",
       "      <td>2</td>\n",
       "      <td>7</td>\n",
       "      <td>4.6</td>\n",
       "      <td>None</td>\n",
       "    </tr>\n",
       "    <tr>\n",
       "      <td>6</td>\n",
       "      <td>2</td>\n",
       "      <td>8</td>\n",
       "      <td>3.9</td>\n",
       "      <td>None</td>\n",
       "    </tr>\n",
       "  </tbody>\n",
       "</table>"
      ],
      "text/plain": [
       "<IPython.core.display.HTML object>"
      ]
     },
     "metadata": {},
     "output_type": "display_data"
    }
   ],
   "source": [
    "runSql('Listens', \"SELECT * FROM Listens;\")"
   ]
  },
  {
   "cell_type": "code",
   "execution_count": null,
   "metadata": {},
   "outputs": [],
   "source": []
  },
  {
   "cell_type": "code",
   "execution_count": null,
   "metadata": {},
   "outputs": [],
   "source": []
  },
  {
   "cell_type": "code",
   "execution_count": null,
   "metadata": {},
   "outputs": [],
   "source": []
  }
 ],
 "metadata": {
  "kernelspec": {
   "display_name": "Python 3 (ipykernel)",
   "language": "python",
   "name": "python3"
  },
  "language_info": {
   "codemirror_mode": {
    "name": "ipython",
    "version": 3
   },
   "file_extension": ".py",
   "mimetype": "text/x-python",
   "name": "python",
   "nbconvert_exporter": "python",
   "pygments_lexer": "ipython3",
   "version": "3.13.1"
  }
 },
 "nbformat": 4,
 "nbformat_minor": 4
}
