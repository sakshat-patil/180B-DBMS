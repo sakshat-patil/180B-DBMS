{
 "cells": [
  {
   "cell_type": "markdown",
   "metadata": {
    "id": "H-hCXFlniEls"
   },
   "source": [
    "# Lecture 6: In-class activity - SQL complex queries"
   ]
  },
  {
   "cell_type": "markdown",
   "metadata": {
    "id": "043jsYf4iElt"
   },
   "source": [
    "## Let's setup the SQL environment\n",
    "\n"
   ]
  },
  {
   "cell_type": "code",
   "execution_count": 1,
   "metadata": {
    "colab": {
     "base_uri": "https://localhost:8080/"
    },
    "id": "41kaIEYGiElu",
    "outputId": "d14e5294-4e2d-4513-b27d-8ee3346e7db1"
   },
   "outputs": [
    {
     "name": "stdout",
     "output_type": "stream",
     "text": [
      "3.45.3\n"
     ]
    }
   ],
   "source": [
    "#Install pysqlite3 for python and import pandas to use later\n",
    "#!pip install pysqlite3\n",
    "from sqlite3 import dbapi2 as sqlite3\n",
    "print(sqlite3.sqlite_version)\n",
    "import pandas as pd\n",
    "from IPython.display import display, HTML"
   ]
  },
  {
   "cell_type": "markdown",
   "metadata": {
    "id": "6V7_8t2UiElv"
   },
   "source": [
    "Let's define some helper functions for running queries and printing results"
   ]
  },
  {
   "cell_type": "code",
   "execution_count": 2,
   "metadata": {
    "id": "-84YiUl9iElv"
   },
   "outputs": [],
   "source": [
    "dbname = \"music_streaming4.db\"\n",
    "\n",
    "def printSqlResults(cursor, tblName):\n",
    "  try:\n",
    "    df = pd.DataFrame(cursor.fetchall(), columns=[i[0] for i in cursor.description])\n",
    "    display(HTML(\"<b><font color=Green> \" + tblName + \"</font></b>\" + df.to_html(index=False)))\n",
    "  except:\n",
    "    pass\n",
    "\n",
    "def runSql(caption, query):\n",
    "  conn = sqlite3.connect(dbname) # Connect to the database\n",
    "  cursor = conn.cursor() # Create a cursor (think: it's like a \"pointer\")\n",
    "  cursor.execute(query) # Execute the query\n",
    "  printSqlResults(cursor, caption) # Print the results\n",
    "  conn.close()\n",
    "\n",
    "def runStepByStepSql(query, fromline):\n",
    "  lines = query.strip().split('\\n')\n",
    "  for lineidx in range(fromline, len(lines)):\n",
    "    partial_query = '\\n'.join(lines[:lineidx])\n",
    "    caption = 'Query till line:' +  partial_query\n",
    "    runSql(caption, partial_query + ';')"
   ]
  },
  {
   "cell_type": "markdown",
   "metadata": {
    "collapsed": true,
    "id": "-JIhphIliElv",
    "jupyter": {
     "outputs_hidden": true
    }
   },
   "source": [
    "Let's setup a Schema and insert some data"
   ]
  },
  {
   "cell_type": "code",
   "execution_count": 3,
   "metadata": {
    "id": "JQqsRzIoiElv"
   },
   "outputs": [],
   "source": [
    "# Connect to database (creates the file if it doesn't exist)\n",
    "\"\"\"\n",
    "1. Connections: A connection represents a connection to a database through\n",
    "which we can execute SQL queries. The dbname here specifies the database.\n",
    "In SQLlite, if the DB doesn't exist, it will be created.\n",
    "2. Cursors: A cursor is an object associated with a database connection.\n",
    "It allows you to execute SQL queries, fetch query results.\n",
    "\"\"\"\n",
    "conn = sqlite3.connect(dbname)\n",
    "cursor = conn.cursor()\n",
    "\n",
    "# Create the Users table\n",
    "cursor.execute(\"\"\"\n",
    "CREATE TABLE IF NOT EXISTS Users (\n",
    "    user_id INTEGER PRIMARY KEY,\n",
    "    name VARCHAR(100) NOT NULL,\n",
    "    email VARCHAR(100) NOT NULL UNIQUE\n",
    ");\n",
    "\"\"\")\n",
    "\n",
    "# Create the Songs table\n",
    "cursor.execute(\"\"\"\n",
    "CREATE TABLE IF NOT EXISTS Songs (\n",
    "    song_id INTEGER PRIMARY KEY,\n",
    "    title VARCHAR(100) NOT NULL,\n",
    "    artist VARCHAR(100) NOT NULL,\n",
    "    genre VARCHAR(100)\n",
    ");\n",
    "\"\"\")\n",
    "\n",
    "# Create the Listens table\n",
    "cursor.execute(\"\"\"\n",
    "CREATE TABLE IF NOT EXISTS Listens (\n",
    "    listen_id INTEGER PRIMARY KEY,\n",
    "    user_id INTEGER NOT NULL,\n",
    "    song_id INTEGER NOT NULL,\n",
    "    rating FLOAT,\n",
    "    listen_time TIMESTAMP,\n",
    "    FOREIGN KEY (user_id) REFERENCES Users(user_id),\n",
    "    FOREIGN KEY (song_id) REFERENCES Songs(song_id)\n",
    ");\n",
    "\"\"\")\n",
    "\n",
    "# Create the recommendations table\n",
    "cursor.execute(\"\"\"\n",
    "CREATE TABLE IF NOT EXISTS Recommendations (\n",
    "    user_id INTEGER NOT NULL,\n",
    "    song_id INTEGER NOT NULL,\n",
    "    recommendation_id not NULL,\n",
    "    recommendation_time TIMESTAMP,\n",
    "    FOREIGN KEY (user_id) REFERENCES Users(user_id),\n",
    "    FOREIGN KEY (song_id) REFERENCES Songs(song_id)\n",
    ");\n",
    "\"\"\")\n",
    "\n",
    "# Commit changes and close the connection\n",
    "conn.commit()\n",
    "conn.close()"
   ]
  },
  {
   "cell_type": "code",
   "execution_count": 4,
   "metadata": {
    "colab": {
     "base_uri": "https://localhost:8080/",
     "height": 886
    },
    "id": "vVTvHS3ZiElw",
    "outputId": "83b940ae-8822-4e5e-b11f-eb8e95efa728"
   },
   "outputs": [
    {
     "data": {
      "text/html": [
       "<b><font color=Green> Users</font></b><table border=\"1\" class=\"dataframe\">\n",
       "  <thead>\n",
       "    <tr style=\"text-align: right;\">\n",
       "      <th>user_id</th>\n",
       "      <th>name</th>\n",
       "      <th>email</th>\n",
       "    </tr>\n",
       "  </thead>\n",
       "  <tbody>\n",
       "    <tr>\n",
       "      <td>1</td>\n",
       "      <td>Mickey</td>\n",
       "      <td>mickey@example.com</td>\n",
       "    </tr>\n",
       "    <tr>\n",
       "      <td>2</td>\n",
       "      <td>Minnie</td>\n",
       "      <td>minnie@example.com</td>\n",
       "    </tr>\n",
       "    <tr>\n",
       "      <td>3</td>\n",
       "      <td>Daffy</td>\n",
       "      <td>daffy@example.com</td>\n",
       "    </tr>\n",
       "    <tr>\n",
       "      <td>4</td>\n",
       "      <td>Pluto</td>\n",
       "      <td>pluto@example.com</td>\n",
       "    </tr>\n",
       "  </tbody>\n",
       "</table>"
      ],
      "text/plain": [
       "<IPython.core.display.HTML object>"
      ]
     },
     "metadata": {},
     "output_type": "display_data"
    },
    {
     "data": {
      "text/html": [
       "<b><font color=Green> Songs</font></b><table border=\"1\" class=\"dataframe\">\n",
       "  <thead>\n",
       "    <tr style=\"text-align: right;\">\n",
       "      <th>song_id</th>\n",
       "      <th>title</th>\n",
       "      <th>artist</th>\n",
       "      <th>genre</th>\n",
       "    </tr>\n",
       "  </thead>\n",
       "  <tbody>\n",
       "    <tr>\n",
       "      <td>1</td>\n",
       "      <td>Evermore</td>\n",
       "      <td>Taylor Swift</td>\n",
       "      <td>Pop</td>\n",
       "    </tr>\n",
       "    <tr>\n",
       "      <td>2</td>\n",
       "      <td>Willow</td>\n",
       "      <td>Taylor Swift</td>\n",
       "      <td>Pop</td>\n",
       "    </tr>\n",
       "    <tr>\n",
       "      <td>3</td>\n",
       "      <td>Shape of You</td>\n",
       "      <td>Ed Sheeran</td>\n",
       "      <td>Rock</td>\n",
       "    </tr>\n",
       "    <tr>\n",
       "      <td>4</td>\n",
       "      <td>Photograph</td>\n",
       "      <td>Ed Sheeran</td>\n",
       "      <td>Rock</td>\n",
       "    </tr>\n",
       "    <tr>\n",
       "      <td>5</td>\n",
       "      <td>Shivers</td>\n",
       "      <td>Ed Sheeran</td>\n",
       "      <td>Rock</td>\n",
       "    </tr>\n",
       "    <tr>\n",
       "      <td>6</td>\n",
       "      <td>Yesterday</td>\n",
       "      <td>Beatles</td>\n",
       "      <td>Classic</td>\n",
       "    </tr>\n",
       "    <tr>\n",
       "      <td>7</td>\n",
       "      <td>Yellow Submarine</td>\n",
       "      <td>Beatles</td>\n",
       "      <td>Classic</td>\n",
       "    </tr>\n",
       "    <tr>\n",
       "      <td>8</td>\n",
       "      <td>Hey Jude</td>\n",
       "      <td>Beatles</td>\n",
       "      <td>Classic</td>\n",
       "    </tr>\n",
       "    <tr>\n",
       "      <td>9</td>\n",
       "      <td>Bad Blood</td>\n",
       "      <td>Taylor Swift</td>\n",
       "      <td>Rock</td>\n",
       "    </tr>\n",
       "    <tr>\n",
       "      <td>10</td>\n",
       "      <td>DJ Mix</td>\n",
       "      <td>DJ</td>\n",
       "      <td>None</td>\n",
       "    </tr>\n",
       "  </tbody>\n",
       "</table>"
      ],
      "text/plain": [
       "<IPython.core.display.HTML object>"
      ]
     },
     "metadata": {},
     "output_type": "display_data"
    },
    {
     "data": {
      "text/html": [
       "<b><font color=Green> Listens</font></b><table border=\"1\" class=\"dataframe\">\n",
       "  <thead>\n",
       "    <tr style=\"text-align: right;\">\n",
       "      <th>listen_id</th>\n",
       "      <th>user_id</th>\n",
       "      <th>song_id</th>\n",
       "      <th>rating</th>\n",
       "      <th>listen_time</th>\n",
       "    </tr>\n",
       "  </thead>\n",
       "  <tbody>\n",
       "    <tr>\n",
       "      <td>1</td>\n",
       "      <td>1</td>\n",
       "      <td>1</td>\n",
       "      <td>4.5</td>\n",
       "      <td>None</td>\n",
       "    </tr>\n",
       "    <tr>\n",
       "      <td>2</td>\n",
       "      <td>1</td>\n",
       "      <td>2</td>\n",
       "      <td>4.2</td>\n",
       "      <td>None</td>\n",
       "    </tr>\n",
       "    <tr>\n",
       "      <td>3</td>\n",
       "      <td>1</td>\n",
       "      <td>6</td>\n",
       "      <td>3.9</td>\n",
       "      <td>None</td>\n",
       "    </tr>\n",
       "    <tr>\n",
       "      <td>4</td>\n",
       "      <td>2</td>\n",
       "      <td>2</td>\n",
       "      <td>4.7</td>\n",
       "      <td>None</td>\n",
       "    </tr>\n",
       "    <tr>\n",
       "      <td>5</td>\n",
       "      <td>2</td>\n",
       "      <td>7</td>\n",
       "      <td>4.6</td>\n",
       "      <td>None</td>\n",
       "    </tr>\n",
       "    <tr>\n",
       "      <td>6</td>\n",
       "      <td>2</td>\n",
       "      <td>8</td>\n",
       "      <td>3.9</td>\n",
       "      <td>None</td>\n",
       "    </tr>\n",
       "    <tr>\n",
       "      <td>7</td>\n",
       "      <td>3</td>\n",
       "      <td>1</td>\n",
       "      <td>2.9</td>\n",
       "      <td>None</td>\n",
       "    </tr>\n",
       "    <tr>\n",
       "      <td>8</td>\n",
       "      <td>3</td>\n",
       "      <td>2</td>\n",
       "      <td>4.9</td>\n",
       "      <td>None</td>\n",
       "    </tr>\n",
       "    <tr>\n",
       "      <td>9</td>\n",
       "      <td>3</td>\n",
       "      <td>6</td>\n",
       "      <td>NaN</td>\n",
       "      <td>None</td>\n",
       "    </tr>\n",
       "  </tbody>\n",
       "</table>"
      ],
      "text/plain": [
       "<IPython.core.display.HTML object>"
      ]
     },
     "metadata": {},
     "output_type": "display_data"
    }
   ],
   "source": [
    "# Connect to database again and insert sample data\n",
    "conn = sqlite3.connect(dbname)\n",
    "sqlite3.enable_callback_tracebacks(True)\n",
    "\n",
    "cursor = conn.cursor()\n",
    "cursor.execute(\"delete from Songs;\")\n",
    "cursor.execute(\"delete from Users;\")\n",
    "cursor.execute(\"delete from Listens;\")\n",
    "cursor.execute(\"delete from Recommendations;\")\n",
    "\n",
    "# Insert sample users\n",
    "cursor.execute(\"\"\"\n",
    "INSERT INTO Users (user_id, name, email)\n",
    "VALUES\n",
    "    (1, 'Mickey', 'mickey@example.com'),\n",
    "    (2, 'Minnie', 'minnie@example.com'),\n",
    "    (3, 'Daffy', 'daffy@example.com'),\n",
    "    (4, 'Pluto', 'pluto@example.com');\n",
    "\"\"\")\n",
    "\n",
    "# Insert sample songs from Taylor Swift, Ed Sheeran, Beatles\n",
    "cursor.execute(\"\"\"\n",
    "INSERT INTO Songs (song_id, title, artist, genre)\n",
    "VALUES\n",
    "    (1, 'Evermore', 'Taylor Swift', 'Pop'),\n",
    "    (2, 'Willow', 'Taylor Swift', 'Pop'),\n",
    "    (3, 'Shape of You', 'Ed Sheeran', 'Rock'),\n",
    "    (4, 'Photograph', 'Ed Sheeran', 'Rock'),\n",
    "    (5, 'Shivers', 'Ed Sheeran', 'Rock'),\n",
    "    (6, 'Yesterday', 'Beatles', 'Classic'),\n",
    "    (7, 'Yellow Submarine', 'Beatles', 'Classic'),\n",
    "    (8, 'Hey Jude', 'Beatles', 'Classic'),\n",
    "    (9, 'Bad Blood', 'Taylor Swift', 'Rock'),\n",
    "    (10, 'DJ Mix', 'DJ', NULL);\n",
    "\"\"\")\n",
    "\n",
    "# Insert sample listens\n",
    "cursor.execute(\"\"\"\n",
    "INSERT INTO Listens (listen_id, user_id, song_id, rating)\n",
    "VALUES\n",
    "    (1, 1, 1, 4.5),\n",
    "    (2, 1, 2, 4.2),\n",
    "    (3, 1, 6, 3.9),\n",
    "    (4, 2, 2, 4.7),\n",
    "    (5, 2, 7, 4.6),\n",
    "    (6, 2, 8, 3.9),\n",
    "    (7, 3, 1, 2.9),\n",
    "    (8, 3, 2, 4.9),\n",
    "    (9, 3, 6, NULL);\n",
    "\"\"\")\n",
    "# Commit changes and close the connection\n",
    "conn.commit()\n",
    "conn.close()\n",
    "\n",
    "runSql('Users', \"select * from Users;\")\n",
    "runSql('Songs', \"select * from Songs;\")\n",
    "runSql('Listens', \"select * from Listens;\")"
   ]
  },
  {
   "cell_type": "markdown",
   "metadata": {
    "id": "BJwhhobyiElw"
   },
   "source": [
    "# Basic SQL queries (ORDER BY, GROUP BY, LIMIT, JOINS, LEFT JOINs)"
   ]
  },
  {
   "cell_type": "code",
   "execution_count": 5,
   "metadata": {
    "colab": {
     "base_uri": "https://localhost:8080/",
     "height": 810
    },
    "id": "r2HDoPT-iElw",
    "outputId": "e9482259-811e-45a4-bfc2-f04d46a1e163"
   },
   "outputs": [
    {
     "data": {
      "text/html": [
       "<b><font color=Green> Classic songs</font></b><table border=\"1\" class=\"dataframe\">\n",
       "  <thead>\n",
       "    <tr style=\"text-align: right;\">\n",
       "      <th>title</th>\n",
       "      <th>artist</th>\n",
       "    </tr>\n",
       "  </thead>\n",
       "  <tbody>\n",
       "    <tr>\n",
       "      <td>Yesterday</td>\n",
       "      <td>Beatles</td>\n",
       "    </tr>\n",
       "    <tr>\n",
       "      <td>Yellow Submarine</td>\n",
       "      <td>Beatles</td>\n",
       "    </tr>\n",
       "    <tr>\n",
       "      <td>Hey Jude</td>\n",
       "      <td>Beatles</td>\n",
       "    </tr>\n",
       "  </tbody>\n",
       "</table>"
      ],
      "text/plain": [
       "<IPython.core.display.HTML object>"
      ]
     },
     "metadata": {},
     "output_type": "display_data"
    },
    {
     "data": {
      "text/html": [
       "<b><font color=Green> All genres in the Songs table</font></b><table border=\"1\" class=\"dataframe\">\n",
       "  <thead>\n",
       "    <tr style=\"text-align: right;\">\n",
       "      <th>genre</th>\n",
       "    </tr>\n",
       "  </thead>\n",
       "  <tbody>\n",
       "    <tr>\n",
       "      <td>Pop</td>\n",
       "    </tr>\n",
       "    <tr>\n",
       "      <td>Pop</td>\n",
       "    </tr>\n",
       "    <tr>\n",
       "      <td>Rock</td>\n",
       "    </tr>\n",
       "    <tr>\n",
       "      <td>Rock</td>\n",
       "    </tr>\n",
       "    <tr>\n",
       "      <td>Rock</td>\n",
       "    </tr>\n",
       "    <tr>\n",
       "      <td>Classic</td>\n",
       "    </tr>\n",
       "    <tr>\n",
       "      <td>Classic</td>\n",
       "    </tr>\n",
       "    <tr>\n",
       "      <td>Classic</td>\n",
       "    </tr>\n",
       "    <tr>\n",
       "      <td>Rock</td>\n",
       "    </tr>\n",
       "    <tr>\n",
       "      <td>None</td>\n",
       "    </tr>\n",
       "  </tbody>\n",
       "</table>"
      ],
      "text/plain": [
       "<IPython.core.display.HTML object>"
      ]
     },
     "metadata": {},
     "output_type": "display_data"
    },
    {
     "data": {
      "text/html": [
       "<b><font color=Green> Unique genres in the Songs table</font></b><table border=\"1\" class=\"dataframe\">\n",
       "  <thead>\n",
       "    <tr style=\"text-align: right;\">\n",
       "      <th>genre</th>\n",
       "    </tr>\n",
       "  </thead>\n",
       "  <tbody>\n",
       "    <tr>\n",
       "      <td>Pop</td>\n",
       "    </tr>\n",
       "    <tr>\n",
       "      <td>Rock</td>\n",
       "    </tr>\n",
       "    <tr>\n",
       "      <td>Classic</td>\n",
       "    </tr>\n",
       "    <tr>\n",
       "      <td>None</td>\n",
       "    </tr>\n",
       "  </tbody>\n",
       "</table>"
      ],
      "text/plain": [
       "<IPython.core.display.HTML object>"
      ]
     },
     "metadata": {},
     "output_type": "display_data"
    },
    {
     "data": {
      "text/html": [
       "<b><font color=Green> Count songs by Taylor Swift in different genres</font></b><table border=\"1\" class=\"dataframe\">\n",
       "  <thead>\n",
       "    <tr style=\"text-align: right;\">\n",
       "      <th>genre</th>\n",
       "      <th>num_songs</th>\n",
       "    </tr>\n",
       "  </thead>\n",
       "  <tbody>\n",
       "    <tr>\n",
       "      <td>Pop</td>\n",
       "      <td>2</td>\n",
       "    </tr>\n",
       "    <tr>\n",
       "      <td>Rock</td>\n",
       "      <td>1</td>\n",
       "    </tr>\n",
       "  </tbody>\n",
       "</table>"
      ],
      "text/plain": [
       "<IPython.core.display.HTML object>"
      ]
     },
     "metadata": {},
     "output_type": "display_data"
    }
   ],
   "source": [
    "\"\"\" Goal: Learn basic forms of SELECT, FROM, WHERE, DISTINCT \"\"\"\n",
    "\n",
    "qry_classic_songs = \"\"\"\n",
    "-- Find the titles and artists of songs in the \"Classic\" genre.\n",
    "SELECT Songs.title, Songs.artist\n",
    "FROM Songs\n",
    "WHERE Songs.genre = 'Classic';\"\"\"\n",
    "runSql('Classic songs', qry_classic_songs)\n",
    "\n",
    "qry_genres = \"\"\"\n",
    "-- List of all genres in the Songs table\n",
    "SELECT genre\n",
    "FROM Songs;\"\"\"\n",
    "runSql('All genres in the Songs table', qry_genres)\n",
    "\n",
    "qry_distinct = \"\"\"\n",
    "-- List of unique genres in the Songs table\n",
    "SELECT DISTINCT genre\n",
    "FROM Songs;\"\"\"\n",
    "runSql('Unique genres in the Songs table', qry_distinct)\n",
    "\n",
    "\n",
    "qry_taylor_count = \"\"\"\n",
    "-- Songs by Taylor Swift in different genres\n",
    "SELECT genre, count(*) as num_songs\n",
    "FROM Songs\n",
    "where artist = 'Taylor Swift'\n",
    "GROUP BY genre;\"\"\"\n",
    "runSql('Count songs by Taylor Swift in different genres', qry_taylor_count)\n"
   ]
  },
  {
   "cell_type": "markdown",
   "metadata": {
    "id": "u-RzTAY1iElx"
   },
   "source": [
    "Experiment 1 with group by"
   ]
  },
  {
   "cell_type": "code",
   "execution_count": 6,
   "metadata": {
    "id": "2eEhRSpqiElx"
   },
   "outputs": [
    {
     "data": {
      "text/html": [
       "<b><font color=Green> Count songs by genre</font></b><table border=\"1\" class=\"dataframe\">\n",
       "  <thead>\n",
       "    <tr style=\"text-align: right;\">\n",
       "      <th>genre</th>\n",
       "      <th>num_songs</th>\n",
       "    </tr>\n",
       "  </thead>\n",
       "  <tbody>\n",
       "    <tr>\n",
       "      <td>None</td>\n",
       "      <td>1</td>\n",
       "    </tr>\n",
       "    <tr>\n",
       "      <td>Classic</td>\n",
       "      <td>3</td>\n",
       "    </tr>\n",
       "    <tr>\n",
       "      <td>Pop</td>\n",
       "      <td>2</td>\n",
       "    </tr>\n",
       "    <tr>\n",
       "      <td>Rock</td>\n",
       "      <td>4</td>\n",
       "    </tr>\n",
       "  </tbody>\n",
       "</table>"
      ],
      "text/plain": [
       "<IPython.core.display.HTML object>"
      ]
     },
     "metadata": {},
     "output_type": "display_data"
    },
    {
     "data": {
      "text/html": [
       "<b><font color=Green> Count songs by genre-artist</font></b><table border=\"1\" class=\"dataframe\">\n",
       "  <thead>\n",
       "    <tr style=\"text-align: right;\">\n",
       "      <th>genre</th>\n",
       "      <th>num_songs</th>\n",
       "    </tr>\n",
       "  </thead>\n",
       "  <tbody>\n",
       "    <tr>\n",
       "      <td>Classic</td>\n",
       "      <td>3</td>\n",
       "    </tr>\n",
       "    <tr>\n",
       "      <td>None</td>\n",
       "      <td>1</td>\n",
       "    </tr>\n",
       "    <tr>\n",
       "      <td>Rock</td>\n",
       "      <td>3</td>\n",
       "    </tr>\n",
       "    <tr>\n",
       "      <td>Pop</td>\n",
       "      <td>2</td>\n",
       "    </tr>\n",
       "    <tr>\n",
       "      <td>Rock</td>\n",
       "      <td>1</td>\n",
       "    </tr>\n",
       "  </tbody>\n",
       "</table>"
      ],
      "text/plain": [
       "<IPython.core.display.HTML object>"
      ]
     },
     "metadata": {},
     "output_type": "display_data"
    }
   ],
   "source": [
    "\n",
    "qry_group_by1 = \"\"\"\n",
    "SELECT genre, count(*) as num_songs\n",
    "FROM Songs\n",
    "GROUP BY genre;\"\"\"\n",
    "runSql('Count songs by genre', qry_group_by1)\n",
    "qry_group_by2 = \"\"\"\n",
    "SELECT genre, count(*) as num_songs\n",
    "FROM Songs\n",
    "GROUP BY artist, genre;\"\"\"\n",
    "runSql('Count songs by genre-artist', qry_group_by2)"
   ]
  },
  {
   "cell_type": "markdown",
   "metadata": {
    "id": "z9wJVKq3iElx"
   },
   "source": [
    "Experiment 2 with group by: Unsafe!\n",
    "Why? Ed Sheeran has 3 songs in Rock and Taylor Swift has 1 in Rock.\n",
    "When we GROUP BY genre, what artist should you return for Rock genre?\n",
    "SQL engines will throw an error, or return a random artist in SELECT. Unsafe.\n"
   ]
  },
  {
   "cell_type": "code",
   "execution_count": 7,
   "metadata": {
    "colab": {
     "base_uri": "https://localhost:8080/",
     "height": 398
    },
    "id": "EJEpgUxJiEly",
    "outputId": "e5d11e54-2b15-4c7c-acb2-552378fb53a8"
   },
   "outputs": [
    {
     "data": {
      "text/html": [
       "<b><font color=Green> Count songs by genre [unsafe/wrong]</font></b><table border=\"1\" class=\"dataframe\">\n",
       "  <thead>\n",
       "    <tr style=\"text-align: right;\">\n",
       "      <th>artist</th>\n",
       "      <th>genre</th>\n",
       "      <th>num_songs</th>\n",
       "    </tr>\n",
       "  </thead>\n",
       "  <tbody>\n",
       "    <tr>\n",
       "      <td>DJ</td>\n",
       "      <td>None</td>\n",
       "      <td>1</td>\n",
       "    </tr>\n",
       "    <tr>\n",
       "      <td>Beatles</td>\n",
       "      <td>Classic</td>\n",
       "      <td>3</td>\n",
       "    </tr>\n",
       "    <tr>\n",
       "      <td>Taylor Swift</td>\n",
       "      <td>Pop</td>\n",
       "      <td>2</td>\n",
       "    </tr>\n",
       "    <tr>\n",
       "      <td>Ed Sheeran</td>\n",
       "      <td>Rock</td>\n",
       "      <td>4</td>\n",
       "    </tr>\n",
       "  </tbody>\n",
       "</table>"
      ],
      "text/plain": [
       "<IPython.core.display.HTML object>"
      ]
     },
     "metadata": {},
     "output_type": "display_data"
    },
    {
     "data": {
      "text/html": [
       "<b><font color=Green> Count songs by artist-genre. Select artists-genre</font></b><table border=\"1\" class=\"dataframe\">\n",
       "  <thead>\n",
       "    <tr style=\"text-align: right;\">\n",
       "      <th>genre</th>\n",
       "      <th>num_songs</th>\n",
       "    </tr>\n",
       "  </thead>\n",
       "  <tbody>\n",
       "    <tr>\n",
       "      <td>Classic</td>\n",
       "      <td>3</td>\n",
       "    </tr>\n",
       "    <tr>\n",
       "      <td>None</td>\n",
       "      <td>1</td>\n",
       "    </tr>\n",
       "    <tr>\n",
       "      <td>Rock</td>\n",
       "      <td>3</td>\n",
       "    </tr>\n",
       "    <tr>\n",
       "      <td>Pop</td>\n",
       "      <td>2</td>\n",
       "    </tr>\n",
       "    <tr>\n",
       "      <td>Rock</td>\n",
       "      <td>1</td>\n",
       "    </tr>\n",
       "  </tbody>\n",
       "</table>"
      ],
      "text/plain": [
       "<IPython.core.display.HTML object>"
      ]
     },
     "metadata": {},
     "output_type": "display_data"
    }
   ],
   "source": [
    "qry_group_by_unsafe = \"\"\"\n",
    "SELECT artist, genre, count(*) as num_songs\n",
    "FROM Songs\n",
    "GROUP BY genre;\"\"\"\n",
    "runSql('Count songs by genre [unsafe/wrong]', qry_group_by_unsafe)\n",
    "\n",
    "\"\"\"Tip: Always make sure SELECT includes only columns in GROUP BY, or aggregates\n",
    "of the GROUP BY or extraneous columns (e.g., SUM, COUNT, AVG, etc.)\n",
    "Below we add artist to GROUP BY as well\"\"\"\n",
    "qry_group_by_safe = \"\"\"\n",
    "SELECT genre, count(*) as num_songs\n",
    "FROM Songs\n",
    "GROUP BY artist, genre;\"\"\"\n",
    "runSql('Count songs by artist-genre. Select artists-genre', qry_group_by_safe)"
   ]
  },
  {
   "cell_type": "markdown",
   "metadata": {
    "id": "Ri1fnQABkDxu"
   },
   "source": [
    "TO DO: Write a query that calculates average ratings of all songs. Only include songs with Listens"
   ]
  },
  {
   "cell_type": "code",
   "execution_count": 26,
   "metadata": {
    "id": "JAJCGQm2jygC"
   },
   "outputs": [
    {
     "data": {
      "text/html": [
       "<b><font color=Green> Average ratings with join </font></b><table border=\"1\" class=\"dataframe\">\n",
       "  <thead>\n",
       "    <tr style=\"text-align: right;\">\n",
       "      <th>title</th>\n",
       "      <th>average</th>\n",
       "    </tr>\n",
       "  </thead>\n",
       "  <tbody>\n",
       "    <tr>\n",
       "      <td>Evermore</td>\n",
       "      <td>3.70</td>\n",
       "    </tr>\n",
       "    <tr>\n",
       "      <td>Hey Jude</td>\n",
       "      <td>3.90</td>\n",
       "    </tr>\n",
       "    <tr>\n",
       "      <td>Willow</td>\n",
       "      <td>4.60</td>\n",
       "    </tr>\n",
       "    <tr>\n",
       "      <td>Yellow Submarine</td>\n",
       "      <td>4.60</td>\n",
       "    </tr>\n",
       "    <tr>\n",
       "      <td>Yesterday</td>\n",
       "      <td>1.95</td>\n",
       "    </tr>\n",
       "  </tbody>\n",
       "</table>"
      ],
      "text/plain": [
       "<IPython.core.display.HTML object>"
      ]
     },
     "metadata": {},
     "output_type": "display_data"
    },
    {
     "name": "stdout",
     "output_type": "stream",
     "text": [
      "CPU times: user 4.36 ms, sys: 4.86 ms, total: 9.22 ms\n",
      "Wall time: 5.78 ms\n"
     ]
    }
   ],
   "source": [
    "%%time\n",
    "avg_ratings = \"\"\"\n",
    "SELECT Songs.title, sum(Listens.rating)/count(Songs.title) as average from Songs join Listens on Songs.song_id=Listens.song_id GROUP BY Songs.title\"\"\"\n",
    "runSql('Average ratings with join ', avg_ratings)"
   ]
  },
  {
   "cell_type": "code",
   "execution_count": 27,
   "metadata": {},
   "outputs": [
    {
     "data": {
      "text/html": [
       "<b><font color=Green> Average ratings with join (without null)</font></b><table border=\"1\" class=\"dataframe\">\n",
       "  <thead>\n",
       "    <tr style=\"text-align: right;\">\n",
       "      <th>title</th>\n",
       "      <th>average</th>\n",
       "    </tr>\n",
       "  </thead>\n",
       "  <tbody>\n",
       "    <tr>\n",
       "      <td>Evermore</td>\n",
       "      <td>3.7</td>\n",
       "    </tr>\n",
       "    <tr>\n",
       "      <td>Hey Jude</td>\n",
       "      <td>3.9</td>\n",
       "    </tr>\n",
       "    <tr>\n",
       "      <td>Willow</td>\n",
       "      <td>4.6</td>\n",
       "    </tr>\n",
       "    <tr>\n",
       "      <td>Yellow Submarine</td>\n",
       "      <td>4.6</td>\n",
       "    </tr>\n",
       "    <tr>\n",
       "      <td>Yesterday</td>\n",
       "      <td>3.9</td>\n",
       "    </tr>\n",
       "  </tbody>\n",
       "</table>"
      ],
      "text/plain": [
       "<IPython.core.display.HTML object>"
      ]
     },
     "metadata": {},
     "output_type": "display_data"
    },
    {
     "name": "stdout",
     "output_type": "stream",
     "text": [
      "CPU times: user 5.36 ms, sys: 4.1 ms, total: 9.46 ms\n",
      "Wall time: 5.87 ms\n"
     ]
    }
   ],
   "source": [
    "%%time\n",
    "avg_withoutnull_ratings = \"\"\"\n",
    "SELECT Songs.title, sum(Listens.rating)/count(Songs.title) as average from Songs join Listens on Songs.song_id=Listens.song_id \n",
    "WHERE Listens.rating is not null GROUP BY Songs.title\"\"\"\n",
    "runSql('Average ratings with join (without null)', avg_withoutnull_ratings)"
   ]
  },
  {
   "cell_type": "code",
   "execution_count": 28,
   "metadata": {},
   "outputs": [
    {
     "data": {
      "text/html": [
       "<b><font color=Green> Average ratings with inbuilt function</font></b><table border=\"1\" class=\"dataframe\">\n",
       "  <thead>\n",
       "    <tr style=\"text-align: right;\">\n",
       "      <th>title</th>\n",
       "      <th>average</th>\n",
       "    </tr>\n",
       "  </thead>\n",
       "  <tbody>\n",
       "    <tr>\n",
       "      <td>Evermore</td>\n",
       "      <td>3.7</td>\n",
       "    </tr>\n",
       "    <tr>\n",
       "      <td>Hey Jude</td>\n",
       "      <td>3.9</td>\n",
       "    </tr>\n",
       "    <tr>\n",
       "      <td>Willow</td>\n",
       "      <td>4.6</td>\n",
       "    </tr>\n",
       "    <tr>\n",
       "      <td>Yellow Submarine</td>\n",
       "      <td>4.6</td>\n",
       "    </tr>\n",
       "    <tr>\n",
       "      <td>Yesterday</td>\n",
       "      <td>3.9</td>\n",
       "    </tr>\n",
       "  </tbody>\n",
       "</table>"
      ],
      "text/plain": [
       "<IPython.core.display.HTML object>"
      ]
     },
     "metadata": {},
     "output_type": "display_data"
    },
    {
     "name": "stdout",
     "output_type": "stream",
     "text": [
      "CPU times: user 3.94 ms, sys: 3.52 ms, total: 7.46 ms\n",
      "Wall time: 4.34 ms\n"
     ]
    }
   ],
   "source": [
    "%%time\n",
    "avg_left_ratings_funtion = \"\"\"\n",
    "SELECT Songs.title, avg(Listens.rating) as average from Songs join Listens on Songs.song_id=Listens.song_id GROUP BY Songs.title\"\"\"\n",
    "runSql('Average ratings with inbuilt function', avg_left_ratings_funtion)"
   ]
  },
  {
   "cell_type": "code",
   "execution_count": 29,
   "metadata": {},
   "outputs": [
    {
     "data": {
      "text/html": [
       "<b><font color=Green> Average ratings with left join</font></b><table border=\"1\" class=\"dataframe\">\n",
       "  <thead>\n",
       "    <tr style=\"text-align: right;\">\n",
       "      <th>title</th>\n",
       "      <th>average</th>\n",
       "    </tr>\n",
       "  </thead>\n",
       "  <tbody>\n",
       "    <tr>\n",
       "      <td>Bad Blood</td>\n",
       "      <td>NaN</td>\n",
       "    </tr>\n",
       "    <tr>\n",
       "      <td>DJ Mix</td>\n",
       "      <td>NaN</td>\n",
       "    </tr>\n",
       "    <tr>\n",
       "      <td>Evermore</td>\n",
       "      <td>3.7</td>\n",
       "    </tr>\n",
       "    <tr>\n",
       "      <td>Hey Jude</td>\n",
       "      <td>3.9</td>\n",
       "    </tr>\n",
       "    <tr>\n",
       "      <td>Photograph</td>\n",
       "      <td>NaN</td>\n",
       "    </tr>\n",
       "    <tr>\n",
       "      <td>Shape of You</td>\n",
       "      <td>NaN</td>\n",
       "    </tr>\n",
       "    <tr>\n",
       "      <td>Shivers</td>\n",
       "      <td>NaN</td>\n",
       "    </tr>\n",
       "    <tr>\n",
       "      <td>Willow</td>\n",
       "      <td>4.6</td>\n",
       "    </tr>\n",
       "    <tr>\n",
       "      <td>Yellow Submarine</td>\n",
       "      <td>4.6</td>\n",
       "    </tr>\n",
       "    <tr>\n",
       "      <td>Yesterday</td>\n",
       "      <td>3.9</td>\n",
       "    </tr>\n",
       "  </tbody>\n",
       "</table>"
      ],
      "text/plain": [
       "<IPython.core.display.HTML object>"
      ]
     },
     "metadata": {},
     "output_type": "display_data"
    },
    {
     "name": "stdout",
     "output_type": "stream",
     "text": [
      "CPU times: user 4.62 ms, sys: 4.38 ms, total: 9 ms\n",
      "Wall time: 6.51 ms\n"
     ]
    }
   ],
   "source": [
    "%%time\n",
    "avg_left_ratings = \"\"\"\n",
    "SELECT Songs.title, avg(Listens.rating) as average from Songs left join Listens on Songs.song_id=Listens.song_id GROUP BY Songs.title\"\"\"\n",
    "runSql('Average ratings with left join', avg_left_ratings)"
   ]
  },
  {
   "cell_type": "code",
   "execution_count": 30,
   "metadata": {},
   "outputs": [
    {
     "data": {
      "text/html": [
       "<b><font color=Green> Average ratings with left join without null</font></b><table border=\"1\" class=\"dataframe\">\n",
       "  <thead>\n",
       "    <tr style=\"text-align: right;\">\n",
       "      <th>title</th>\n",
       "      <th>average</th>\n",
       "    </tr>\n",
       "  </thead>\n",
       "  <tbody>\n",
       "    <tr>\n",
       "      <td>Evermore</td>\n",
       "      <td>3.7</td>\n",
       "    </tr>\n",
       "    <tr>\n",
       "      <td>Hey Jude</td>\n",
       "      <td>3.9</td>\n",
       "    </tr>\n",
       "    <tr>\n",
       "      <td>Willow</td>\n",
       "      <td>4.6</td>\n",
       "    </tr>\n",
       "    <tr>\n",
       "      <td>Yellow Submarine</td>\n",
       "      <td>4.6</td>\n",
       "    </tr>\n",
       "    <tr>\n",
       "      <td>Yesterday</td>\n",
       "      <td>3.9</td>\n",
       "    </tr>\n",
       "  </tbody>\n",
       "</table>"
      ],
      "text/plain": [
       "<IPython.core.display.HTML object>"
      ]
     },
     "metadata": {},
     "output_type": "display_data"
    },
    {
     "name": "stdout",
     "output_type": "stream",
     "text": [
      "CPU times: user 4.26 ms, sys: 5.74 ms, total: 10 ms\n",
      "Wall time: 6.54 ms\n"
     ]
    }
   ],
   "source": [
    "%%time\n",
    "avg_left_ratings_notnull = \"\"\"\n",
    "SELECT Songs.title, avg(Listens.rating) as average from Songs left join Listens on Songs.song_id=Listens.song_id \n",
    "WHERE Listens.rating is not null GROUP BY Songs.title\"\"\"\n",
    "runSql('Average ratings with left join without null', avg_left_ratings_notnull)"
   ]
  },
  {
   "cell_type": "markdown",
   "metadata": {},
   "source": [
    "Create Recommenations Table"
   ]
  },
  {
   "cell_type": "code",
   "execution_count": 32,
   "metadata": {},
   "outputs": [
    {
     "name": "stdout",
     "output_type": "stream",
     "text": [
      "CPU times: user 1.1 ms, sys: 2.61 ms, total: 3.7 ms\n",
      "Wall time: 2.33 ms\n"
     ]
    }
   ],
   "source": [
    "%%time\n",
    "create_recom_table = \"\"\"\n",
    "CREATE TABLE IF NOT EXISTS Recommendations (\n",
    " user_id INTEGER NOT NULL,\n",
    " song_id INTEGER NOT NULL,\n",
    " recommendation_id INTEGER NOT NULL,\n",
    " recommendation_time TIMESTAMP,\n",
    " FOREIGN KEY (user_id) REFERENCES Users(user_id)\n",
    " FOREIGN KEY (song_id) REFERENCES Songs(song_id)\n",
    ")\"\"\"\n",
    "runSql('Recommendation Table', create_recom_table)"
   ]
  },
  {
   "cell_type": "code",
   "execution_count": null,
   "metadata": {},
   "outputs": [],
   "source": []
  }
 ],
 "metadata": {
  "colab": {
   "provenance": []
  },
  "kernelspec": {
   "display_name": "Python 3 (ipykernel)",
   "language": "python",
   "name": "python3"
  },
  "language_info": {
   "codemirror_mode": {
    "name": "ipython",
    "version": 3
   },
   "file_extension": ".py",
   "mimetype": "text/x-python",
   "name": "python",
   "nbconvert_exporter": "python",
   "pygments_lexer": "ipython3",
   "version": "3.13.1"
  }
 },
 "nbformat": 4,
 "nbformat_minor": 4
}
